{
 "cells": [
  {
   "cell_type": "code",
   "execution_count": null,
   "id": "7f1fa751-60d7-4dc1-aa11-c104817eb9c7",
   "metadata": {},
   "outputs": [],
   "source": [
    "import unittest\n",
    "import FirstExample \n",
    "import fractions\n",
    "class TestSum(unittest.TestCase):\n",
    "  \n",
    "   def test_list_int(self):\n",
    "      self.result = FirstExample.sumNumbers() \n",
    "      self.result = sum(self.result) \n",
    "      self.assertEqual(self.result, 70) \n",
    "\n",
    "#I used a list of integers 10 20 and 40. sice the test passed I can assume that 10 + 20 + 40 == 70. \n",
    "\n",
    "   def test_list_fractions(self): \n",
    "      self.result = FirstExample.sumFractions() \n",
    "      self.result = sum(self.result) \n",
    "      self.assertEqual(self.result, fractions.Fraction(21, 4)) \n",
    "\n",
    "#I used a list of fractions 3/4, 3/2, and 3/1. I tested it agains int(3) and it failed. This is because the sum of the fractions was 21/4. \n",
    "\n",
    "if __name__ == '__main__': \n",
    "    unittest.main() "
   ]
  }
 ],
 "metadata": {
  "kernelspec": {
   "display_name": "Python 3 (ipykernel)",
   "language": "python",
   "name": "python3"
  },
  "language_info": {
   "codemirror_mode": {
    "name": "ipython",
    "version": 3
   },
   "file_extension": ".py",
   "mimetype": "text/x-python",
   "name": "python",
   "nbconvert_exporter": "python",
   "pygments_lexer": "ipython3",
   "version": "3.11.7"
  }
 },
 "nbformat": 4,
 "nbformat_minor": 5
}
