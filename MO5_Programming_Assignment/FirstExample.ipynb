{
 "cells": [
  {
   "cell_type": "code",
   "execution_count": null,
   "id": "1a91acfa-689a-4904-a74e-90a326a56714",
   "metadata": {},
   "outputs": [],
   "source": [
    "import fractions \n",
    "\n",
    "def sumNumbers(a = 5, b = 5): \n",
    "   sums = [] \n",
    "   sumOfNumbers_1 = a + b \n",
    "   sumOfNumbers_2 = sumOfNumbers_1 + a + b \n",
    "   sumOfNumbers_3 = sumOfNumbers_2 + sumOfNumbers_1 + a + b \n",
    "   sums.append(sumOfNumbers_1) \n",
    "   sums.append(sumOfNumbers_2) \n",
    "   sums.append(sumOfNumbers_3) \n",
    "   return sums \n",
    "\n",
    "def sumFractions(a = fractions.Fraction(1, 2), b = fractions.Fraction(1, 4)): \n",
    "   sums = [] \n",
    "   sumOfFractions1 = a + b \n",
    "   sumOfFractions2 = sumOfFractions1 + a + b \n",
    "   sumOfFractions3 = sumOfFractions1 + sumOfFractions2 + a + b \n",
    "   sums.append(sumOfFractions1) \n",
    "   sums.append(sumOfFractions2) \n",
    "   sums.append(sumOfFractions3) \n",
    "   return sums "
   ]
  }
 ],
 "metadata": {
  "kernelspec": {
   "display_name": "Python 3 (ipykernel)",
   "language": "python",
   "name": "python3"
  },
  "language_info": {
   "codemirror_mode": {
    "name": "ipython",
    "version": 3
   },
   "file_extension": ".py",
   "mimetype": "text/x-python",
   "name": "python",
   "nbconvert_exporter": "python",
   "pygments_lexer": "ipython3",
   "version": "3.11.7"
  }
 },
 "nbformat": 4,
 "nbformat_minor": 5
}
